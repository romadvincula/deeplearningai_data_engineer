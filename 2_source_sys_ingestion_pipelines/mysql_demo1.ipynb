{
 "cells": [
  {
   "cell_type": "code",
   "execution_count": 2,
   "id": "420c905f",
   "metadata": {},
   "outputs": [],
   "source": [
    "import boto3"
   ]
  },
  {
   "cell_type": "code",
   "execution_count": null,
   "id": "8ccb35f4",
   "metadata": {},
   "outputs": [],
   "source": [
    "access_key_id = \"\"\n",
    "secret_access_key = \"\"\n",
    "region_name = \"ap-southeast-2\""
   ]
  },
  {
   "cell_type": "code",
   "execution_count": 4,
   "id": "add0e628",
   "metadata": {},
   "outputs": [],
   "source": [
    "session = boto3.Session(\n",
    "    aws_access_key_id=access_key_id,\n",
    "    aws_secret_access_key=secret_access_key,\n",
    "    region_name=region_name\n",
    ")"
   ]
  },
  {
   "cell_type": "code",
   "execution_count": 5,
   "id": "fb310749",
   "metadata": {},
   "outputs": [],
   "source": [
    "rds = session.client(\"rds\")"
   ]
  },
  {
   "cell_type": "code",
   "execution_count": 19,
   "id": "81406b34",
   "metadata": {},
   "outputs": [],
   "source": [
    "dbInstance = rds.describe_db_instances()['DBInstances'][1]"
   ]
  },
  {
   "cell_type": "code",
   "execution_count": 20,
   "id": "e03705ee",
   "metadata": {},
   "outputs": [
    {
     "data": {
      "text/plain": [
       "{'DBInstanceIdentifier': 'rds-mysql-10mintutorial-romadv0',\n",
       " 'DBInstanceClass': 'db.t4g.micro',\n",
       " 'Engine': 'mysql',\n",
       " 'DBInstanceStatus': 'available',\n",
       " 'MasterUsername': 'masterUsername',\n",
       " 'DBName': 'demo1',\n",
       " 'Endpoint': {'Address': 'rds-mysql-10mintutorial-romadv0.cjkkesmgkkv5.ap-southeast-2.rds.amazonaws.com',\n",
       "  'Port': 3306,\n",
       "  'HostedZoneId': 'Z32T0VRHXEXS0V'},\n",
       " 'AllocatedStorage': 20,\n",
       " 'InstanceCreateTime': datetime.datetime(2025, 4, 11, 10, 4, 49, 137000, tzinfo=tzutc()),\n",
       " 'PreferredBackupWindow': '12:43-13:13',\n",
       " 'BackupRetentionPeriod': 1,\n",
       " 'DBSecurityGroups': [],\n",
       " 'VpcSecurityGroups': [{'VpcSecurityGroupId': 'sg-0588670946ad0d5a8',\n",
       "   'Status': 'active'}],\n",
       " 'DBParameterGroups': [{'DBParameterGroupName': 'default.mysql8.0',\n",
       "   'ParameterApplyStatus': 'in-sync'}],\n",
       " 'AvailabilityZone': 'ap-southeast-2a',\n",
       " 'DBSubnetGroup': {'DBSubnetGroupName': 'default-vpc-0de1086a75ec62492',\n",
       "  'DBSubnetGroupDescription': 'Created from the RDS Management Console',\n",
       "  'VpcId': 'vpc-0de1086a75ec62492',\n",
       "  'SubnetGroupStatus': 'Complete',\n",
       "  'Subnets': [{'SubnetIdentifier': 'subnet-05b8fb030142a6823',\n",
       "    'SubnetAvailabilityZone': {'Name': 'ap-southeast-2c'},\n",
       "    'SubnetOutpost': {},\n",
       "    'SubnetStatus': 'Active'},\n",
       "   {'SubnetIdentifier': 'subnet-009c6d8c2e5580e01',\n",
       "    'SubnetAvailabilityZone': {'Name': 'ap-southeast-2a'},\n",
       "    'SubnetOutpost': {},\n",
       "    'SubnetStatus': 'Active'},\n",
       "   {'SubnetIdentifier': 'subnet-06e64d6a015c9bde7',\n",
       "    'SubnetAvailabilityZone': {'Name': 'ap-southeast-2b'},\n",
       "    'SubnetOutpost': {},\n",
       "    'SubnetStatus': 'Active'}]},\n",
       " 'PreferredMaintenanceWindow': 'thu:18:56-thu:19:26',\n",
       " 'PendingModifiedValues': {},\n",
       " 'LatestRestorableTime': datetime.datetime(2025, 4, 11, 11, 15, tzinfo=tzutc()),\n",
       " 'MultiAZ': False,\n",
       " 'EngineVersion': '8.0.40',\n",
       " 'AutoMinorVersionUpgrade': True,\n",
       " 'ReadReplicaDBInstanceIdentifiers': [],\n",
       " 'LicenseModel': 'general-public-license',\n",
       " 'OptionGroupMemberships': [{'OptionGroupName': 'default:mysql-8-0',\n",
       "   'Status': 'in-sync'}],\n",
       " 'PubliclyAccessible': True,\n",
       " 'StorageType': 'gp2',\n",
       " 'DbInstancePort': 0,\n",
       " 'StorageEncrypted': False,\n",
       " 'DbiResourceId': 'db-TX4UEMZ77QSAQ7L4IXKE6KCNYI',\n",
       " 'CACertificateIdentifier': 'rds-ca-rsa2048-g1',\n",
       " 'DomainMemberships': [],\n",
       " 'CopyTagsToSnapshot': True,\n",
       " 'MonitoringInterval': 0,\n",
       " 'DBInstanceArn': 'arn:aws:rds:ap-southeast-2:222634372385:db:rds-mysql-10mintutorial-romadv0',\n",
       " 'IAMDatabaseAuthenticationEnabled': False,\n",
       " 'DatabaseInsightsMode': 'standard',\n",
       " 'PerformanceInsightsEnabled': False,\n",
       " 'DeletionProtection': False,\n",
       " 'AssociatedRoles': [],\n",
       " 'TagList': [],\n",
       " 'CustomerOwnedIpEnabled': False,\n",
       " 'ActivityStreamStatus': 'stopped',\n",
       " 'BackupTarget': 'region',\n",
       " 'NetworkType': 'IPV4',\n",
       " 'StorageThroughput': 0,\n",
       " 'CertificateDetails': {'CAIdentifier': 'rds-ca-rsa2048-g1',\n",
       "  'ValidTill': datetime.datetime(2026, 4, 11, 10, 3, 56, tzinfo=tzutc())},\n",
       " 'DedicatedLogVolume': False,\n",
       " 'IsStorageConfigUpgradeAvailable': False,\n",
       " 'EngineLifecycleSupport': 'open-source-rds-extended-support-disabled'}"
      ]
     },
     "execution_count": 20,
     "metadata": {},
     "output_type": "execute_result"
    }
   ],
   "source": [
    "dbInstance"
   ]
  },
  {
   "cell_type": "code",
   "execution_count": null,
   "id": "ceb53c77",
   "metadata": {},
   "outputs": [
    {
     "name": "stdout",
     "output_type": "stream",
     "text": [
      "Database connection failed due to (20004, b'DB-Lib error message 20002, severity 9:\\nAdaptive Server connection failed (rds-mysql-10mintutorial-romadv0.cjkkesmgkkv5.ap-southeast-2.rds.amazonaws.com)\\nDB-Lib error message 20002, severity 9:\\nAdaptive Server connection failed (rds-mysql-10mintutorial-romadv0.cjkkesmgkkv5.ap-southeast-2.rds.amazonaws.com)\\n').\n"
     ]
    }
   ],
   "source": [
    "import pymssql\n",
    "\n",
    "try:\n",
    "    conn = pymssql.connect(\n",
    "        host=\"rds-mysql-10mintutorial-romadv0.wefw1ihjefowj21.ap-southeast-2.rds.amazonaws.com\",\n",
    "        user=\"masterUsername@mysql\",\n",
    "        password=\"\",\n",
    "        port=\"3306\",\n",
    "        database=\"mysql\"\n",
    "    )\n",
    "    cur = conn.cursor()\n",
    "    cur.execute(\"\"\"SELECT * FROM user;\"\"\")\n",
    "    query_results = cur.fetchall()\n",
    "    print(query_results)\n",
    "except Exception as e:\n",
    "    print(f'Database connection failed due to {e}.')"
   ]
  },
  {
   "cell_type": "code",
   "execution_count": null,
   "id": "bad9e229",
   "metadata": {},
   "outputs": [],
   "source": []
  },
  {
   "cell_type": "code",
   "execution_count": null,
   "id": "92d425c2",
   "metadata": {},
   "outputs": [],
   "source": []
  }
 ],
 "metadata": {
  "kernelspec": {
   "display_name": "venv312",
   "language": "python",
   "name": "python3"
  },
  "language_info": {
   "codemirror_mode": {
    "name": "ipython",
    "version": 3
   },
   "file_extension": ".py",
   "mimetype": "text/x-python",
   "name": "python",
   "nbconvert_exporter": "python",
   "pygments_lexer": "ipython3",
   "version": "3.12.6"
  }
 },
 "nbformat": 4,
 "nbformat_minor": 5
}
